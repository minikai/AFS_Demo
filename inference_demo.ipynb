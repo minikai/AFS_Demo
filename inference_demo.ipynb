{
 "cells": [
  {
   "cell_type": "code",
   "execution_count": null,
   "metadata": {},
   "outputs": [],
   "source": [
    "import os, numpy, pandas, datetime, time, json, requests, re, configparser\n",
    "from sklearn.preprocessing import MinMaxScaler\n",
    "from flask import Flask, jsonify\n",
    "from flask import request\n",
    "import json\n",
    "from keras.models import load_model"
   ]
  },
  {
   "cell_type": "code",
   "execution_count": null,
   "metadata": {},
   "outputs": [],
   "source": [
    "def create_dataset(dataset, look_back=1):\n",
    "    dataX = []\n",
    "    for i in range(len(dataset)-look_back+1):\n",
    "        a = dataset[i:(i+look_back), 0]\n",
    "        dataX.append(a)\n",
    "    return numpy.array(dataX)\n",
    "        \n",
    "def load_rnn_model(filepath, dataset, count=1):\n",
    "    model = load_model(filepath)\n",
    "    raw_data = dataset\n",
    "    scaler = MinMaxScaler(feature_range=(0, 1))\n",
    "    predict_data = []\n",
    "    dataset = scaler.fit_transform(raw_data)\n",
    "    test_data = create_dataset(dataset, look_back=12)\n",
    "    test_data = numpy.reshape(test_data, (test_data.shape[0], 1, test_data.shape[1]))\n",
    "    testPredict = model.predict(test_data)\n",
    "    predict_data = scaler.inverse_transform(testPredict)\n",
    "    return raw_data, predict_data\n",
    "\n",
    "app = Flask(__name__)\n",
    "@app.route(\"/predict\", methods=['POST'])\n",
    "def predict():\n",
    "    data_list = []\n",
    "    post_data = request.form.get('data')\n",
    "    data_list = [[value] for value in post_data.split(',')]\n",
    "    print(data_list)\n",
    "    data = numpy.array(data_list)\n",
    "    raw_data, predict_data = load_rnn_model('/rnn_model_for_deploy.h5', data)\n",
    "    for datas in predict_data:\n",
    "        for data in datas:\n",
    "            predict_data = data\n",
    "    print('raw_data',raw_data, numpy.shape(raw_data))\n",
    "    return jsonify({'message': str(predict_data)})\n",
    "\n",
    "port = os.getenv('PORT', '7500')\n",
    "\n",
    "if __name__ == \"__main__\":\n",
    "    app.run(host = '0.0.0.0', port = int(port))"
   ]
  }
 ],
 "metadata": {
  "kernelspec": {
   "display_name": "Python 3",
   "language": "python",
   "name": "python3"
  },
  "language_info": {
   "codemirror_mode": {
    "name": "ipython",
    "version": 3
   },
   "file_extension": ".py",
   "mimetype": "text/x-python",
   "name": "python",
   "nbconvert_exporter": "python",
   "pygments_lexer": "ipython3",
   "version": "3.6.8"
  }
 },
 "nbformat": 4,
 "nbformat_minor": 2
}
